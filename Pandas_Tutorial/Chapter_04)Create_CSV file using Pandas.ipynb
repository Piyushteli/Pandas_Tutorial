{
 "cells": [
  {
   "cell_type": "markdown",
   "id": "172abb52",
   "metadata": {},
   "source": [
    "# Create_CSV file using Pandas"
   ]
  },
  {
   "cell_type": "code",
   "execution_count": 6,
   "id": "7fcf2025",
   "metadata": {},
   "outputs": [
    {
     "name": "stdout",
     "output_type": "stream",
     "text": [
      "    A    B    C\n",
      "0  10   20   30\n",
      "1  20   40   60\n",
      "2  30   60   90\n",
      "3  40   80  120\n",
      "4  50  100  150\n"
     ]
    }
   ],
   "source": [
    "import pandas as pd\n",
    "dict={\"A\":[10,20,30,40,50],\"B\":[20,40,60,80,100],\"C\":[30,60,90,120,150]}\n",
    "df=pd.DataFrame(dict)\n",
    "print(df)\n",
    "df.to_csv(\"Test_new.csv\",index=False,header=[\"P\",\"Q\",\"R\"])"
   ]
  },
  {
   "cell_type": "code",
   "execution_count": null,
   "id": "6e46236c",
   "metadata": {},
   "outputs": [],
   "source": []
  }
 ],
 "metadata": {
  "kernelspec": {
   "display_name": "Python 3 (ipykernel)",
   "language": "python",
   "name": "python3"
  },
  "language_info": {
   "codemirror_mode": {
    "name": "ipython",
    "version": 3
   },
   "file_extension": ".py",
   "mimetype": "text/x-python",
   "name": "python",
   "nbconvert_exporter": "python",
   "pygments_lexer": "ipython3",
   "version": "3.11.4"
  }
 },
 "nbformat": 4,
 "nbformat_minor": 5
}
