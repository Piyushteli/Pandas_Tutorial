{
 "cells": [
  {
   "cell_type": "markdown",
   "id": "0cc68f34",
   "metadata": {},
   "source": [
    "# Arithmetic_Operations"
   ]
  },
  {
   "cell_type": "markdown",
   "id": "cd2f35dd",
   "metadata": {},
   "source": [
    "1)Addition(+)\n",
    "\n",
    "2)Substraction(-)\n",
    "\n",
    "3)Multiplication(*)\n",
    "\n",
    "4)Division(/)\n"
   ]
  },
  {
   "cell_type": "code",
   "execution_count": 5,
   "id": "3ac9714f",
   "metadata": {},
   "outputs": [
    {
     "name": "stdout",
     "output_type": "stream",
     "text": [
      "    A   B\n",
      "0  10  10\n",
      "1  20  20\n",
      "2  30  30\n",
      "3  40  40\n"
     ]
    }
   ],
   "source": [
    "import pandas as pd\n",
    "var=pd.DataFrame({\"A\":[10,20,30,40],\"B\":[10,20,30,40]})\n",
    "print(var)"
   ]
  },
  {
   "cell_type": "code",
   "execution_count": 10,
   "id": "14cfe83e",
   "metadata": {},
   "outputs": [
    {
     "name": "stdout",
     "output_type": "stream",
     "text": [
      "    A   B   C  S     M    D\n",
      "0  10  10  20  0   100  1.0\n",
      "1  20  20  40  0   400  1.0\n",
      "2  30  30  60  0   900  1.0\n",
      "3  40  40  80  0  1600  1.0\n"
     ]
    }
   ],
   "source": [
    "var[\"C\"] = var[\"A\"]+var[\"B\"]\n",
    "var[\"S\"] = var[\"A\"]-var[\"B\"]\n",
    "var[\"M\"] = var[\"A\"]*var[\"B\"]\n",
    "var[\"D\"] = var[\"A\"]/var[\"B\"]\n",
    "print(var)"
   ]
  },
  {
   "cell_type": "markdown",
   "id": "c8bb1d82",
   "metadata": {},
   "source": [
    "# Logical Operators"
   ]
  },
  {
   "cell_type": "code",
   "execution_count": 13,
   "id": "cc62dcf2",
   "metadata": {},
   "outputs": [
    {
     "data": {
      "text/html": [
       "<div>\n",
       "<style scoped>\n",
       "    .dataframe tbody tr th:only-of-type {\n",
       "        vertical-align: middle;\n",
       "    }\n",
       "\n",
       "    .dataframe tbody tr th {\n",
       "        vertical-align: top;\n",
       "    }\n",
       "\n",
       "    .dataframe thead th {\n",
       "        text-align: right;\n",
       "    }\n",
       "</style>\n",
       "<table border=\"1\" class=\"dataframe\">\n",
       "  <thead>\n",
       "    <tr style=\"text-align: right;\">\n",
       "      <th></th>\n",
       "      <th>A</th>\n",
       "      <th>B</th>\n",
       "      <th>C</th>\n",
       "      <th>S</th>\n",
       "      <th>M</th>\n",
       "      <th>D</th>\n",
       "      <th>Python</th>\n",
       "      <th>Java</th>\n",
       "    </tr>\n",
       "  </thead>\n",
       "  <tbody>\n",
       "    <tr>\n",
       "      <th>0</th>\n",
       "      <td>10</td>\n",
       "      <td>10</td>\n",
       "      <td>20</td>\n",
       "      <td>0</td>\n",
       "      <td>100</td>\n",
       "      <td>1.0</td>\n",
       "      <td>False</td>\n",
       "      <td>True</td>\n",
       "    </tr>\n",
       "    <tr>\n",
       "      <th>1</th>\n",
       "      <td>20</td>\n",
       "      <td>20</td>\n",
       "      <td>40</td>\n",
       "      <td>0</td>\n",
       "      <td>400</td>\n",
       "      <td>1.0</td>\n",
       "      <td>False</td>\n",
       "      <td>True</td>\n",
       "    </tr>\n",
       "    <tr>\n",
       "      <th>2</th>\n",
       "      <td>30</td>\n",
       "      <td>30</td>\n",
       "      <td>60</td>\n",
       "      <td>0</td>\n",
       "      <td>900</td>\n",
       "      <td>1.0</td>\n",
       "      <td>True</td>\n",
       "      <td>True</td>\n",
       "    </tr>\n",
       "    <tr>\n",
       "      <th>3</th>\n",
       "      <td>40</td>\n",
       "      <td>40</td>\n",
       "      <td>80</td>\n",
       "      <td>0</td>\n",
       "      <td>1600</td>\n",
       "      <td>1.0</td>\n",
       "      <td>True</td>\n",
       "      <td>False</td>\n",
       "    </tr>\n",
       "  </tbody>\n",
       "</table>\n",
       "</div>"
      ],
      "text/plain": [
       "    A   B   C  S     M    D  Python   Java\n",
       "0  10  10  20  0   100  1.0   False   True\n",
       "1  20  20  40  0   400  1.0   False   True\n",
       "2  30  30  60  0   900  1.0    True   True\n",
       "3  40  40  80  0  1600  1.0    True  False"
      ]
     },
     "execution_count": 13,
     "metadata": {},
     "output_type": "execute_result"
    }
   ],
   "source": [
    "var[\"Python\"]=var[\"A\"]>=30\n",
    "var[\"Java\"]=var[\"M\"]<=900\n",
    "var"
   ]
  },
  {
   "cell_type": "code",
   "execution_count": null,
   "id": "1ab21cbf",
   "metadata": {},
   "outputs": [],
   "source": []
  }
 ],
 "metadata": {
  "kernelspec": {
   "display_name": "Python 3 (ipykernel)",
   "language": "python",
   "name": "python3"
  },
  "language_info": {
   "codemirror_mode": {
    "name": "ipython",
    "version": 3
   },
   "file_extension": ".py",
   "mimetype": "text/x-python",
   "name": "python",
   "nbconvert_exporter": "python",
   "pygments_lexer": "ipython3",
   "version": "3.11.4"
  }
 },
 "nbformat": 4,
 "nbformat_minor": 5
}
