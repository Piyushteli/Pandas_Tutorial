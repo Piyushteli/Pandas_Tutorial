{
 "cells": [
  {
   "cell_type": "markdown",
   "id": "5721c29c",
   "metadata": {},
   "source": [
    "# Series "
   ]
  },
  {
   "cell_type": "markdown",
   "id": "54e9be16",
   "metadata": {},
   "source": [
    "It is defined as a one dimensional array that is capable of storing various data types "
   ]
  },
  {
   "cell_type": "markdown",
   "id": "ed159bb7",
   "metadata": {},
   "source": [
    "Syntax: \n",
    "\n",
    "    import pandas as pd \n",
    "    a=pd.Series()\n",
    "    print(a)"
   ]
  },
  {
   "cell_type": "code",
   "execution_count": 5,
   "id": "7c899b3c",
   "metadata": {},
   "outputs": [
    {
     "name": "stdout",
     "output_type": "stream",
     "text": [
      "0    10\n",
      "1    20\n",
      "2    30\n",
      "3    40\n",
      "4    50\n",
      "dtype: int64\n",
      "40\n"
     ]
    }
   ],
   "source": [
    "import pandas as pd\n",
    "x=[10,20,30,40,50]\n",
    "var=pd.Series(x)\n",
    "print(var)\n",
    "print(var[3])         #Accessing the Element from the list"
   ]
  },
  {
   "cell_type": "markdown",
   "id": "a2e77583",
   "metadata": {},
   "source": [
    "# Series Parameters used in Pandas"
   ]
  },
  {
   "cell_type": "code",
   "execution_count": 7,
   "id": "5ff6313d",
   "metadata": {},
   "outputs": [
    {
     "name": "stdout",
     "output_type": "stream",
     "text": [
      "A     5.0\n",
      "B    10.0\n",
      "C    15.0\n",
      "D    20.0\n",
      "Name: table, dtype: float64\n"
     ]
    }
   ],
   "source": [
    "import pandas as pd\n",
    "list=[5,10,15,20]\n",
    "var=pd.Series(list,index=['A','B','C','D'],dtype=\"float\",name=\"table\")\n",
    "print(var)\n"
   ]
  },
  {
   "cell_type": "markdown",
   "id": "87b4e899",
   "metadata": {},
   "source": [
    "# Dictionary"
   ]
  },
  {
   "cell_type": "code",
   "execution_count": 10,
   "id": "eab7023d",
   "metadata": {},
   "outputs": [
    {
     "name": "stdout",
     "output_type": "stream",
     "text": [
      "name      [Python, C, C++, Java]\n",
      "fees    [5000, 2000, 3000, 4000]\n",
      "rank                [1, 4, 3, 2]\n",
      "dtype: object\n"
     ]
    }
   ],
   "source": [
    "import pandas as pd\n",
    "dict={\"name\":[\"Python\",\"C\",\"C++\",\"Java\"],\"fees\":[5000,2000,3000,4000],\"rank\":[1,4,3,2]}\n",
    "var=pd.Series(dict)\n",
    "print(var)"
   ]
  },
  {
   "cell_type": "markdown",
   "id": "1a7c2ba6",
   "metadata": {},
   "source": [
    "# User defined index"
   ]
  },
  {
   "cell_type": "code",
   "execution_count": 11,
   "id": "b8a51e5b",
   "metadata": {},
   "outputs": [
    {
     "name": "stdout",
     "output_type": "stream",
     "text": [
      "1    24.0\n",
      "2    24.0\n",
      "3    24.0\n",
      "4    24.0\n",
      "5    24.0\n",
      "6     NaN\n",
      "7     NaN\n",
      "8     NaN\n",
      "dtype: float64\n"
     ]
    }
   ],
   "source": [
    "s1=pd.Series(12,index=[1,2,3,4,5,6,7,8])\n",
    "s2=pd.Series(12,index=[1,2,3,4,5])\n",
    "\n",
    "print(s1+s2)              #It returns Nan for missing values not a error hence we used pandas"
   ]
  },
  {
   "cell_type": "markdown",
   "id": "77bc3c2d",
   "metadata": {},
   "source": [
    "#    Dataframe"
   ]
  },
  {
   "cell_type": "markdown",
   "id": "0d3a7aaa",
   "metadata": {},
   "source": [
    "It is the two dimentional datastructure"
   ]
  },
  {
   "cell_type": "code",
   "execution_count": 16,
   "id": "3f8c2536",
   "metadata": {},
   "outputs": [
    {
     "name": "stdout",
     "output_type": "stream",
     "text": [
      "    0\n",
      "0  10\n",
      "1  20\n",
      "2  30\n",
      "3  40\n",
      "4  50\n",
      "<class 'pandas.core.frame.DataFrame'>\n"
     ]
    }
   ],
   "source": [
    "import pandas as pd\n",
    "list=[10,20,30,40,50]\n",
    "var=pd.DataFrame(list)\n",
    "print(var)\n",
    "print(type(var))"
   ]
  },
  {
   "cell_type": "code",
   "execution_count": 17,
   "id": "01f191d3",
   "metadata": {},
   "outputs": [
    {
     "name": "stdout",
     "output_type": "stream",
     "text": [
      "     name  Roll no  Marks\n",
      "0  Tushar       11     50\n",
      "1   Sahil       12     98\n",
      "2   Mohan       13     67\n",
      "3    Ravi       14     80\n"
     ]
    }
   ],
   "source": [
    "import pandas as pd\n",
    "dict={\"name\":[\"Tushar\",\"Sahil\",\"Mohan\",\"Ravi\"],\"Roll no\":[11,12,13,14],\"Marks\":[50,98,67,80]}\n",
    "var=pd.DataFrame(dict)\n",
    "print(var)"
   ]
  },
  {
   "cell_type": "markdown",
   "id": "0505e981",
   "metadata": {},
   "source": [
    "# To Access the particular Column"
   ]
  },
  {
   "cell_type": "code",
   "execution_count": 9,
   "id": "f2f14e5d",
   "metadata": {},
   "outputs": [
    {
     "name": "stdout",
     "output_type": "stream",
     "text": [
      "     name\n",
      "1  Tushar\n",
      "2   Sahil\n",
      "3   Mohan\n",
      "4    Ravi\n"
     ]
    }
   ],
   "source": [
    "import pandas as pd\n",
    "dict={\"name\":[\"Tushar\",\"Sahil\",\"Mohan\",\"Ravi\"],\"Roll no\":[11,12,13,14],\"Marks\":[50,98,67,80]}\n",
    "var=pd.DataFrame(dict,columns=[\"name\"],index=[1,2,3,4])\n",
    "print(var)\n"
   ]
  },
  {
   "cell_type": "markdown",
   "id": "3939c29a",
   "metadata": {},
   "source": [
    "# To get the particular datavalue"
   ]
  },
  {
   "cell_type": "code",
   "execution_count": 12,
   "id": "f5885079",
   "metadata": {},
   "outputs": [
    {
     "name": "stdout",
     "output_type": "stream",
     "text": [
      "Tushar\n"
     ]
    }
   ],
   "source": [
    "import pandas as pd\n",
    "dict={\"name\":[\"Tushar\",\"Sahil\",\"Mohan\",\"Ravi\"],\"Roll no\":[11,12,13,14],\"Marks\":[50,98,67,80]}\n",
    "var=pd.DataFrame(dict,index=[1,2,3,4])\n",
    "print(var[\"name\"][1])"
   ]
  },
  {
   "cell_type": "markdown",
   "id": "4b942f16",
   "metadata": {},
   "source": [
    "# Dataframe using List"
   ]
  },
  {
   "cell_type": "code",
   "execution_count": 13,
   "id": "a9540b71",
   "metadata": {},
   "outputs": [
    {
     "name": "stdout",
     "output_type": "stream",
     "text": [
      "    0   1   2   3   4\n",
      "0  10  20  30  40  50\n",
      "1  10  20  30  40  50\n"
     ]
    }
   ],
   "source": [
    "import pandas as pd\n",
    "list=[10,20,30,40,50],[10,20,30,40,50]\n",
    "var1=pd.DataFrame(list)\n",
    "print(var1)"
   ]
  },
  {
   "cell_type": "markdown",
   "id": "d63dcc0a",
   "metadata": {},
   "source": [
    "# Dataframe using Series"
   ]
  },
  {
   "cell_type": "code",
   "execution_count": 18,
   "id": "9e62cd3e",
   "metadata": {},
   "outputs": [
    {
     "name": "stdout",
     "output_type": "stream",
     "text": [
      "   A  B\n",
      "0  1  1\n",
      "1  2  2\n",
      "2  3  3\n",
      "3  4  4\n",
      "4  5  5\n"
     ]
    }
   ],
   "source": [
    "import pandas as pd\n",
    "dict={\"A\":pd.Series((1,2,3,4,5)),\"B\":pd.Series((1,2,3,4,5))}\n",
    "var2=pd.DataFrame(dict)\n",
    "print(var2)"
   ]
  },
  {
   "cell_type": "code",
   "execution_count": null,
   "id": "b6a56fca",
   "metadata": {},
   "outputs": [],
   "source": []
  }
 ],
 "metadata": {
  "kernelspec": {
   "display_name": "Python 3 (ipykernel)",
   "language": "python",
   "name": "python3"
  },
  "language_info": {
   "codemirror_mode": {
    "name": "ipython",
    "version": 3
   },
   "file_extension": ".py",
   "mimetype": "text/x-python",
   "name": "python",
   "nbconvert_exporter": "python",
   "pygments_lexer": "ipython3",
   "version": "3.11.4"
  }
 },
 "nbformat": 4,
 "nbformat_minor": 5
}
