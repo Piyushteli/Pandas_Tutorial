{
 "cells": [
  {
   "cell_type": "markdown",
   "id": "d91b54ca",
   "metadata": {},
   "source": [
    "# Introduction of Pandas library."
   ]
  },
  {
   "cell_type": "markdown",
   "id": "e62f911f",
   "metadata": {},
   "source": [
    "Pandas is a powerful Python library for data manipulation and analysis. \n",
    "\n",
    "It provides data structures and functions to efficiently handle structured data, making it a crucial tool for data science and analysis.\n"
   ]
  },
  {
   "cell_type": "markdown",
   "id": "6fd3a718",
   "metadata": {},
   "source": [
    "# Key Features:"
   ]
  },
  {
   "cell_type": "markdown",
   "id": "26926347",
   "metadata": {},
   "source": [
    "- Series: 1-dimensional labeled array\n",
    "\n",
    "    \n",
    "- DataFrame: 2-dimensional labeled data structure"
   ]
  },
  {
   "cell_type": "markdown",
   "id": "0b8c43e7",
   "metadata": {},
   "source": [
    "# Use Cases:"
   ]
  },
  {
   "cell_type": "markdown",
   "id": "ba3ac583",
   "metadata": {},
   "source": [
    "- Data cleaning and preprocessing.\n",
    "\n",
    "- Data analysis and visualization.\n",
    "\n",
    "- Data merging and joining.\n",
    "\n",
    "- Data grouping and aggregation."
   ]
  },
  {
   "cell_type": "markdown",
   "id": "0de3881d",
   "metadata": {},
   "source": [
    "Pandas is widely used in data science, machine learning, and data analysis applications."
   ]
  },
  {
   "cell_type": "code",
   "execution_count": null,
   "id": "c7b317d6",
   "metadata": {},
   "outputs": [],
   "source": []
  }
 ],
 "metadata": {
  "kernelspec": {
   "display_name": "Python 3 (ipykernel)",
   "language": "python",
   "name": "python3"
  },
  "language_info": {
   "codemirror_mode": {
    "name": "ipython",
    "version": 3
   },
   "file_extension": ".py",
   "mimetype": "text/x-python",
   "name": "python",
   "nbconvert_exporter": "python",
   "pygments_lexer": "ipython3",
   "version": "3.11.4"
  }
 },
 "nbformat": 4,
 "nbformat_minor": 5
}
